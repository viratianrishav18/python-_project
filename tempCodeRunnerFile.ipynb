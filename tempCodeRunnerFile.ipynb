import pandas as pd
import numpy as np
import matplotlib.pyplot as plt
import seaborn as cb
from scipy import stats as 